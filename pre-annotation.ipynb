{
 "cells": [
  {
   "cell_type": "markdown",
   "id": "3199fa3f",
   "metadata": {},
   "source": [
    "## Pre Annotation\n",
    "Splitting important features from ML models by type"
   ]
  },
  {
   "cell_type": "code",
   "execution_count": 1,
   "id": "7b6e1dec",
   "metadata": {},
   "outputs": [],
   "source": [
    "import pandas as pd\n",
    "import numpy as np"
   ]
  },
  {
   "cell_type": "code",
   "execution_count": null,
   "id": "1b24941e",
   "metadata": {},
   "outputs": [],
   "source": [
    "top30_lr = pd.read_csv('top_30_features_logistic_regression.csv')\n",
    "top30_rf = pd.read_csv('top_30_features_rf.csv')\n",
    "top30_svm = pd.read_csv('top_30_features_svm.csv')"
   ]
  },
  {
   "cell_type": "code",
   "execution_count": null,
   "id": "0c1b588d",
   "metadata": {},
   "outputs": [],
   "source": [
    "#LR split\n",
    "lr_genes = top30_lr[top30_lr[\"Feature\"].str.startswith(\"ENSG\")]\n",
    "lr_cpg = top30_lr[top30_lr[\"Feature\"].str.startswith(\"cg\")]\n",
    "\n",
    "#RF split\n",
    "rf_genes = top30_rf[top30_rf[\"Feature\"].str.startswith(\"ENSG\")]\n",
    "rf_cpg = top30_rf[top30_rf[\"Feature\"].str.startswith(\"cg\")]\n",
    "\n",
    "#SVM split\n",
    "svm_genes = top30_svm[top30_svm[\"Feature\"].str.startswith(\"ENSG\")]\n",
    "svm_cpg = top30_svm[top30_svm[\"Feature\"].str.startswith(\"cg\")]\n"
   ]
  },
  {
   "cell_type": "code",
   "execution_count": null,
   "id": "63ee3f14",
   "metadata": {},
   "outputs": [],
   "source": [
    "lr_genes.to_csv('lr_genes.csv', index=False)\n",
    "lr_cpg.to_csv('lr_cpg.csv', index=False)\n",
    "\n",
    "rf_genes.to_csv('rf_genes.csv', index=False)\n",
    "rf_cpg.to_csv('rf_cpg.csv', index=False)\n",
    "\n",
    "svm_genes.to_csv('svm_genes.csv', index=False)\n",
    "svm_cpg.to_csv('svm_cpg.csv', index=False)"
   ]
  }
 ],
 "metadata": {
  "kernelspec": {
   "display_name": "base",
   "language": "python",
   "name": "python3"
  },
  "language_info": {
   "codemirror_mode": {
    "name": "ipython",
    "version": 3
   },
   "file_extension": ".py",
   "mimetype": "text/x-python",
   "name": "python",
   "nbconvert_exporter": "python",
   "pygments_lexer": "ipython3",
   "version": "3.9.21"
  }
 },
 "nbformat": 4,
 "nbformat_minor": 5
}
